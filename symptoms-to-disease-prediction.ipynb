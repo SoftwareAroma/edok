{
 "metadata": {
  "kernelspec": {
   "language": "python",
   "display_name": "Python 3",
   "name": "python3"
  },
  "language_info": {
   "name": "python",
   "version": "3.10.13",
   "mimetype": "text/x-python",
   "codemirror_mode": {
    "name": "ipython",
    "version": 3
   },
   "pygments_lexer": "ipython3",
   "nbconvert_exporter": "python",
   "file_extension": ".py"
  },
  "kaggle": {
   "accelerator": "gpu",
   "dataSources": [
    {
     "sourceId": 1182853,
     "sourceType": "datasetVersion",
     "datasetId": 672162
    }
   ],
   "dockerImageVersionId": 30746,
   "isInternetEnabled": true,
   "language": "python",
   "sourceType": "notebook",
   "isGpuEnabled": true
  }
 },
 "nbformat_minor": 4,
 "nbformat": 4,
 "cells": [
  {
   "cell_type": "code",
   "source": [
    "import pickle\n",
    "import warnings\n",
    "import pandas as pd\n",
    "import numpy as np\n",
    "from sklearn.model_selection import train_test_split, cross_val_score, KFold\n",
    "from sklearn.metrics import f1_score, roc_auc_score\n",
    "from sklearn.ensemble import RandomForestClassifier, GradientBoostingClassifier, ExtraTreesClassifier\n",
    "from xgboost import XGBClassifier\n",
    "from lightgbm import LGBMClassifier\n",
    "# from catboost import CatBoostClassifier\n",
    "\n",
    "\n",
    "%matplotlib inline"
   ],
   "metadata": {
    "execution": {
     "iopub.status.busy": "2024-07-12T19:57:42.247747Z",
     "iopub.execute_input": "2024-07-12T19:57:42.248116Z",
     "iopub.status.idle": "2024-07-12T19:57:47.378675Z",
     "shell.execute_reply.started": "2024-07-12T19:57:42.248089Z",
     "shell.execute_reply": "2024-07-12T19:57:47.377736Z"
    },
    "trusted": true,
    "ExecuteTime": {
     "end_time": "2024-07-21T14:53:28.169156Z",
     "start_time": "2024-07-21T14:53:28.161269Z"
    }
   },
   "outputs": [],
   "execution_count": 9
  },
  {
   "metadata": {
    "ExecuteTime": {
     "end_time": "2024-07-21T14:53:32.791656Z",
     "start_time": "2024-07-21T14:53:32.786551Z"
    }
   },
   "cell_type": "code",
   "source": "warnings.filterwarnings(\"ignore\")",
   "outputs": [],
   "execution_count": 10
  },
  {
   "cell_type": "code",
   "source": [
    "df=pd.read_csv(\"data/dataset.csv\")\n",
    "df.head()"
   ],
   "metadata": {
    "execution": {
     "iopub.status.busy": "2024-07-12T19:58:03.859371Z",
     "iopub.execute_input": "2024-07-12T19:58:03.859784Z",
     "iopub.status.idle": "2024-07-12T19:58:03.915441Z",
     "shell.execute_reply.started": "2024-07-12T19:58:03.859754Z",
     "shell.execute_reply": "2024-07-12T19:58:03.914495Z"
    },
    "trusted": true,
    "ExecuteTime": {
     "end_time": "2024-07-21T14:53:34.924813Z",
     "start_time": "2024-07-21T14:53:34.721917Z"
    }
   },
   "outputs": [
    {
     "data": {
      "text/plain": [
       "            Disease   Symptom_1              Symptom_2              Symptom_3  \\\n",
       "0  Fungal infection     itching              skin_rash   nodal_skin_eruptions   \n",
       "1  Fungal infection   skin_rash   nodal_skin_eruptions    dischromic _patches   \n",
       "2  Fungal infection     itching   nodal_skin_eruptions    dischromic _patches   \n",
       "3  Fungal infection     itching              skin_rash    dischromic _patches   \n",
       "4  Fungal infection     itching              skin_rash   nodal_skin_eruptions   \n",
       "\n",
       "              Symptom_4 Symptom_5 Symptom_6 Symptom_7 Symptom_8 Symptom_9  \\\n",
       "0   dischromic _patches       NaN       NaN       NaN       NaN       NaN   \n",
       "1                   NaN       NaN       NaN       NaN       NaN       NaN   \n",
       "2                   NaN       NaN       NaN       NaN       NaN       NaN   \n",
       "3                   NaN       NaN       NaN       NaN       NaN       NaN   \n",
       "4                   NaN       NaN       NaN       NaN       NaN       NaN   \n",
       "\n",
       "  Symptom_10 Symptom_11 Symptom_12 Symptom_13 Symptom_14 Symptom_15  \\\n",
       "0        NaN        NaN        NaN        NaN        NaN        NaN   \n",
       "1        NaN        NaN        NaN        NaN        NaN        NaN   \n",
       "2        NaN        NaN        NaN        NaN        NaN        NaN   \n",
       "3        NaN        NaN        NaN        NaN        NaN        NaN   \n",
       "4        NaN        NaN        NaN        NaN        NaN        NaN   \n",
       "\n",
       "  Symptom_16 Symptom_17  \n",
       "0        NaN        NaN  \n",
       "1        NaN        NaN  \n",
       "2        NaN        NaN  \n",
       "3        NaN        NaN  \n",
       "4        NaN        NaN  "
      ],
      "text/html": [
       "<div>\n",
       "<style scoped>\n",
       "    .dataframe tbody tr th:only-of-type {\n",
       "        vertical-align: middle;\n",
       "    }\n",
       "\n",
       "    .dataframe tbody tr th {\n",
       "        vertical-align: top;\n",
       "    }\n",
       "\n",
       "    .dataframe thead th {\n",
       "        text-align: right;\n",
       "    }\n",
       "</style>\n",
       "<table border=\"1\" class=\"dataframe\">\n",
       "  <thead>\n",
       "    <tr style=\"text-align: right;\">\n",
       "      <th></th>\n",
       "      <th>Disease</th>\n",
       "      <th>Symptom_1</th>\n",
       "      <th>Symptom_2</th>\n",
       "      <th>Symptom_3</th>\n",
       "      <th>Symptom_4</th>\n",
       "      <th>Symptom_5</th>\n",
       "      <th>Symptom_6</th>\n",
       "      <th>Symptom_7</th>\n",
       "      <th>Symptom_8</th>\n",
       "      <th>Symptom_9</th>\n",
       "      <th>Symptom_10</th>\n",
       "      <th>Symptom_11</th>\n",
       "      <th>Symptom_12</th>\n",
       "      <th>Symptom_13</th>\n",
       "      <th>Symptom_14</th>\n",
       "      <th>Symptom_15</th>\n",
       "      <th>Symptom_16</th>\n",
       "      <th>Symptom_17</th>\n",
       "    </tr>\n",
       "  </thead>\n",
       "  <tbody>\n",
       "    <tr>\n",
       "      <th>0</th>\n",
       "      <td>Fungal infection</td>\n",
       "      <td>itching</td>\n",
       "      <td>skin_rash</td>\n",
       "      <td>nodal_skin_eruptions</td>\n",
       "      <td>dischromic _patches</td>\n",
       "      <td>NaN</td>\n",
       "      <td>NaN</td>\n",
       "      <td>NaN</td>\n",
       "      <td>NaN</td>\n",
       "      <td>NaN</td>\n",
       "      <td>NaN</td>\n",
       "      <td>NaN</td>\n",
       "      <td>NaN</td>\n",
       "      <td>NaN</td>\n",
       "      <td>NaN</td>\n",
       "      <td>NaN</td>\n",
       "      <td>NaN</td>\n",
       "      <td>NaN</td>\n",
       "    </tr>\n",
       "    <tr>\n",
       "      <th>1</th>\n",
       "      <td>Fungal infection</td>\n",
       "      <td>skin_rash</td>\n",
       "      <td>nodal_skin_eruptions</td>\n",
       "      <td>dischromic _patches</td>\n",
       "      <td>NaN</td>\n",
       "      <td>NaN</td>\n",
       "      <td>NaN</td>\n",
       "      <td>NaN</td>\n",
       "      <td>NaN</td>\n",
       "      <td>NaN</td>\n",
       "      <td>NaN</td>\n",
       "      <td>NaN</td>\n",
       "      <td>NaN</td>\n",
       "      <td>NaN</td>\n",
       "      <td>NaN</td>\n",
       "      <td>NaN</td>\n",
       "      <td>NaN</td>\n",
       "      <td>NaN</td>\n",
       "    </tr>\n",
       "    <tr>\n",
       "      <th>2</th>\n",
       "      <td>Fungal infection</td>\n",
       "      <td>itching</td>\n",
       "      <td>nodal_skin_eruptions</td>\n",
       "      <td>dischromic _patches</td>\n",
       "      <td>NaN</td>\n",
       "      <td>NaN</td>\n",
       "      <td>NaN</td>\n",
       "      <td>NaN</td>\n",
       "      <td>NaN</td>\n",
       "      <td>NaN</td>\n",
       "      <td>NaN</td>\n",
       "      <td>NaN</td>\n",
       "      <td>NaN</td>\n",
       "      <td>NaN</td>\n",
       "      <td>NaN</td>\n",
       "      <td>NaN</td>\n",
       "      <td>NaN</td>\n",
       "      <td>NaN</td>\n",
       "    </tr>\n",
       "    <tr>\n",
       "      <th>3</th>\n",
       "      <td>Fungal infection</td>\n",
       "      <td>itching</td>\n",
       "      <td>skin_rash</td>\n",
       "      <td>dischromic _patches</td>\n",
       "      <td>NaN</td>\n",
       "      <td>NaN</td>\n",
       "      <td>NaN</td>\n",
       "      <td>NaN</td>\n",
       "      <td>NaN</td>\n",
       "      <td>NaN</td>\n",
       "      <td>NaN</td>\n",
       "      <td>NaN</td>\n",
       "      <td>NaN</td>\n",
       "      <td>NaN</td>\n",
       "      <td>NaN</td>\n",
       "      <td>NaN</td>\n",
       "      <td>NaN</td>\n",
       "      <td>NaN</td>\n",
       "    </tr>\n",
       "    <tr>\n",
       "      <th>4</th>\n",
       "      <td>Fungal infection</td>\n",
       "      <td>itching</td>\n",
       "      <td>skin_rash</td>\n",
       "      <td>nodal_skin_eruptions</td>\n",
       "      <td>NaN</td>\n",
       "      <td>NaN</td>\n",
       "      <td>NaN</td>\n",
       "      <td>NaN</td>\n",
       "      <td>NaN</td>\n",
       "      <td>NaN</td>\n",
       "      <td>NaN</td>\n",
       "      <td>NaN</td>\n",
       "      <td>NaN</td>\n",
       "      <td>NaN</td>\n",
       "      <td>NaN</td>\n",
       "      <td>NaN</td>\n",
       "      <td>NaN</td>\n",
       "      <td>NaN</td>\n",
       "    </tr>\n",
       "  </tbody>\n",
       "</table>\n",
       "</div>"
      ]
     },
     "execution_count": 11,
     "metadata": {},
     "output_type": "execute_result"
    }
   ],
   "execution_count": 11
  },
  {
   "cell_type": "code",
   "source": "df.isnull().sum()",
   "metadata": {
    "execution": {
     "iopub.status.busy": "2024-07-12T19:58:03.953999Z",
     "iopub.execute_input": "2024-07-12T19:58:03.954390Z",
     "iopub.status.idle": "2024-07-12T19:58:03.970260Z",
     "shell.execute_reply.started": "2024-07-12T19:58:03.954361Z",
     "shell.execute_reply": "2024-07-12T19:58:03.969339Z"
    },
    "trusted": true,
    "ExecuteTime": {
     "end_time": "2024-07-21T14:53:38.191250Z",
     "start_time": "2024-07-21T14:53:38.181297Z"
    }
   },
   "outputs": [
    {
     "data": {
      "text/plain": [
       "Disease          0\n",
       "Symptom_1        0\n",
       "Symptom_2        0\n",
       "Symptom_3        0\n",
       "Symptom_4      348\n",
       "Symptom_5     1206\n",
       "Symptom_6     1986\n",
       "Symptom_7     2652\n",
       "Symptom_8     2976\n",
       "Symptom_9     3228\n",
       "Symptom_10    3408\n",
       "Symptom_11    3726\n",
       "Symptom_12    4176\n",
       "Symptom_13    4416\n",
       "Symptom_14    4614\n",
       "Symptom_15    4680\n",
       "Symptom_16    4728\n",
       "Symptom_17    4848\n",
       "dtype: int64"
      ]
     },
     "execution_count": 12,
     "metadata": {},
     "output_type": "execute_result"
    }
   ],
   "execution_count": 12
  },
  {
   "cell_type": "code",
   "source": "df.info()",
   "metadata": {
    "execution": {
     "iopub.status.busy": "2024-07-12T19:58:03.971427Z",
     "iopub.execute_input": "2024-07-12T19:58:03.971689Z",
     "iopub.status.idle": "2024-07-12T19:58:03.997649Z",
     "shell.execute_reply.started": "2024-07-12T19:58:03.971667Z",
     "shell.execute_reply": "2024-07-12T19:58:03.996716Z"
    },
    "trusted": true,
    "ExecuteTime": {
     "end_time": "2024-07-21T14:53:41.855817Z",
     "start_time": "2024-07-21T14:53:41.840975Z"
    }
   },
   "outputs": [
    {
     "name": "stdout",
     "output_type": "stream",
     "text": [
      "<class 'pandas.core.frame.DataFrame'>\n",
      "RangeIndex: 4920 entries, 0 to 4919\n",
      "Data columns (total 18 columns):\n",
      " #   Column      Non-Null Count  Dtype \n",
      "---  ------      --------------  ----- \n",
      " 0   Disease     4920 non-null   object\n",
      " 1   Symptom_1   4920 non-null   object\n",
      " 2   Symptom_2   4920 non-null   object\n",
      " 3   Symptom_3   4920 non-null   object\n",
      " 4   Symptom_4   4572 non-null   object\n",
      " 5   Symptom_5   3714 non-null   object\n",
      " 6   Symptom_6   2934 non-null   object\n",
      " 7   Symptom_7   2268 non-null   object\n",
      " 8   Symptom_8   1944 non-null   object\n",
      " 9   Symptom_9   1692 non-null   object\n",
      " 10  Symptom_10  1512 non-null   object\n",
      " 11  Symptom_11  1194 non-null   object\n",
      " 12  Symptom_12  744 non-null    object\n",
      " 13  Symptom_13  504 non-null    object\n",
      " 14  Symptom_14  306 non-null    object\n",
      " 15  Symptom_15  240 non-null    object\n",
      " 16  Symptom_16  192 non-null    object\n",
      " 17  Symptom_17  72 non-null     object\n",
      "dtypes: object(18)\n",
      "memory usage: 692.0+ KB\n"
     ]
    }
   ],
   "execution_count": 13
  },
  {
   "cell_type": "code",
   "source": "df.describe()",
   "metadata": {
    "execution": {
     "iopub.status.busy": "2024-07-12T19:58:03.998735Z",
     "iopub.execute_input": "2024-07-12T19:58:03.999050Z",
     "iopub.status.idle": "2024-07-12T19:58:04.053605Z",
     "shell.execute_reply.started": "2024-07-12T19:58:03.999020Z",
     "shell.execute_reply": "2024-07-12T19:58:04.052696Z"
    },
    "trusted": true,
    "ExecuteTime": {
     "end_time": "2024-07-21T14:53:42.726748Z",
     "start_time": "2024-07-21T14:53:42.681963Z"
    }
   },
   "outputs": [
    {
     "data": {
      "text/plain": [
       "                 Disease  Symptom_1  Symptom_2 Symptom_3    Symptom_4  \\\n",
       "count               4920       4920       4920      4920         4572   \n",
       "unique                41         34         48        54           50   \n",
       "top     Fungal infection   vomiting   vomiting   fatigue   high_fever   \n",
       "freq                 120        822        870       726          378   \n",
       "\n",
       "        Symptom_5 Symptom_6        Symptom_7        Symptom_8  \\\n",
       "count        3714      2934             2268             1944   \n",
       "unique         38        32               26               21   \n",
       "top      headache    nausea   abdominal_pain   abdominal_pain   \n",
       "freq          348       390              264              276   \n",
       "\n",
       "                 Symptom_9          Symptom_10     Symptom_11 Symptom_12  \\\n",
       "count                 1692                1512           1194        744   \n",
       "unique                  22                  21             18         11   \n",
       "top      yellowing_of_eyes   yellowing_of_eyes   irritability    malaise   \n",
       "freq                   228                 198            120        126   \n",
       "\n",
       "          Symptom_13   Symptom_14   Symptom_15        Symptom_16    Symptom_17  \n",
       "count            504          306          240               192            72  \n",
       "unique             8            4            3                 3             1  \n",
       "top      muscle_pain   chest_pain   chest_pain   blood_in_sputum   muscle_pain  \n",
       "freq              72           96          144                72            72  "
      ],
      "text/html": [
       "<div>\n",
       "<style scoped>\n",
       "    .dataframe tbody tr th:only-of-type {\n",
       "        vertical-align: middle;\n",
       "    }\n",
       "\n",
       "    .dataframe tbody tr th {\n",
       "        vertical-align: top;\n",
       "    }\n",
       "\n",
       "    .dataframe thead th {\n",
       "        text-align: right;\n",
       "    }\n",
       "</style>\n",
       "<table border=\"1\" class=\"dataframe\">\n",
       "  <thead>\n",
       "    <tr style=\"text-align: right;\">\n",
       "      <th></th>\n",
       "      <th>Disease</th>\n",
       "      <th>Symptom_1</th>\n",
       "      <th>Symptom_2</th>\n",
       "      <th>Symptom_3</th>\n",
       "      <th>Symptom_4</th>\n",
       "      <th>Symptom_5</th>\n",
       "      <th>Symptom_6</th>\n",
       "      <th>Symptom_7</th>\n",
       "      <th>Symptom_8</th>\n",
       "      <th>Symptom_9</th>\n",
       "      <th>Symptom_10</th>\n",
       "      <th>Symptom_11</th>\n",
       "      <th>Symptom_12</th>\n",
       "      <th>Symptom_13</th>\n",
       "      <th>Symptom_14</th>\n",
       "      <th>Symptom_15</th>\n",
       "      <th>Symptom_16</th>\n",
       "      <th>Symptom_17</th>\n",
       "    </tr>\n",
       "  </thead>\n",
       "  <tbody>\n",
       "    <tr>\n",
       "      <th>count</th>\n",
       "      <td>4920</td>\n",
       "      <td>4920</td>\n",
       "      <td>4920</td>\n",
       "      <td>4920</td>\n",
       "      <td>4572</td>\n",
       "      <td>3714</td>\n",
       "      <td>2934</td>\n",
       "      <td>2268</td>\n",
       "      <td>1944</td>\n",
       "      <td>1692</td>\n",
       "      <td>1512</td>\n",
       "      <td>1194</td>\n",
       "      <td>744</td>\n",
       "      <td>504</td>\n",
       "      <td>306</td>\n",
       "      <td>240</td>\n",
       "      <td>192</td>\n",
       "      <td>72</td>\n",
       "    </tr>\n",
       "    <tr>\n",
       "      <th>unique</th>\n",
       "      <td>41</td>\n",
       "      <td>34</td>\n",
       "      <td>48</td>\n",
       "      <td>54</td>\n",
       "      <td>50</td>\n",
       "      <td>38</td>\n",
       "      <td>32</td>\n",
       "      <td>26</td>\n",
       "      <td>21</td>\n",
       "      <td>22</td>\n",
       "      <td>21</td>\n",
       "      <td>18</td>\n",
       "      <td>11</td>\n",
       "      <td>8</td>\n",
       "      <td>4</td>\n",
       "      <td>3</td>\n",
       "      <td>3</td>\n",
       "      <td>1</td>\n",
       "    </tr>\n",
       "    <tr>\n",
       "      <th>top</th>\n",
       "      <td>Fungal infection</td>\n",
       "      <td>vomiting</td>\n",
       "      <td>vomiting</td>\n",
       "      <td>fatigue</td>\n",
       "      <td>high_fever</td>\n",
       "      <td>headache</td>\n",
       "      <td>nausea</td>\n",
       "      <td>abdominal_pain</td>\n",
       "      <td>abdominal_pain</td>\n",
       "      <td>yellowing_of_eyes</td>\n",
       "      <td>yellowing_of_eyes</td>\n",
       "      <td>irritability</td>\n",
       "      <td>malaise</td>\n",
       "      <td>muscle_pain</td>\n",
       "      <td>chest_pain</td>\n",
       "      <td>chest_pain</td>\n",
       "      <td>blood_in_sputum</td>\n",
       "      <td>muscle_pain</td>\n",
       "    </tr>\n",
       "    <tr>\n",
       "      <th>freq</th>\n",
       "      <td>120</td>\n",
       "      <td>822</td>\n",
       "      <td>870</td>\n",
       "      <td>726</td>\n",
       "      <td>378</td>\n",
       "      <td>348</td>\n",
       "      <td>390</td>\n",
       "      <td>264</td>\n",
       "      <td>276</td>\n",
       "      <td>228</td>\n",
       "      <td>198</td>\n",
       "      <td>120</td>\n",
       "      <td>126</td>\n",
       "      <td>72</td>\n",
       "      <td>96</td>\n",
       "      <td>144</td>\n",
       "      <td>72</td>\n",
       "      <td>72</td>\n",
       "    </tr>\n",
       "  </tbody>\n",
       "</table>\n",
       "</div>"
      ]
     },
     "execution_count": 14,
     "metadata": {},
     "output_type": "execute_result"
    }
   ],
   "execution_count": 14
  },
  {
   "cell_type": "code",
   "source": "df = df.fillna(0)",
   "metadata": {
    "execution": {
     "iopub.status.busy": "2024-07-12T19:58:04.057939Z",
     "iopub.execute_input": "2024-07-12T19:58:04.058199Z",
     "iopub.status.idle": "2024-07-12T19:58:04.073131Z",
     "shell.execute_reply.started": "2024-07-12T19:58:04.058177Z",
     "shell.execute_reply": "2024-07-12T19:58:04.072270Z"
    },
    "trusted": true,
    "ExecuteTime": {
     "end_time": "2024-07-21T14:53:45.206018Z",
     "start_time": "2024-07-21T14:53:45.191693Z"
    }
   },
   "outputs": [],
   "execution_count": 15
  },
  {
   "cell_type": "code",
   "source": [
    "df1=pd.read_csv(\"data/Symptom-severity.csv\")\n",
    "df1.head()"
   ],
   "metadata": {
    "execution": {
     "iopub.status.busy": "2024-07-12T19:58:15.611721Z",
     "iopub.execute_input": "2024-07-12T19:58:15.612022Z",
     "iopub.status.idle": "2024-07-12T19:58:15.629326Z",
     "shell.execute_reply.started": "2024-07-12T19:58:15.611997Z",
     "shell.execute_reply": "2024-07-12T19:58:15.628454Z"
    },
    "trusted": true,
    "ExecuteTime": {
     "end_time": "2024-07-21T14:53:50.110150Z",
     "start_time": "2024-07-21T14:53:50.093735Z"
    }
   },
   "outputs": [
    {
     "data": {
      "text/plain": [
       "                Symptom  weight\n",
       "0               itching       1\n",
       "1             skin_rash       3\n",
       "2  nodal_skin_eruptions       4\n",
       "3   continuous_sneezing       4\n",
       "4             shivering       5"
      ],
      "text/html": [
       "<div>\n",
       "<style scoped>\n",
       "    .dataframe tbody tr th:only-of-type {\n",
       "        vertical-align: middle;\n",
       "    }\n",
       "\n",
       "    .dataframe tbody tr th {\n",
       "        vertical-align: top;\n",
       "    }\n",
       "\n",
       "    .dataframe thead th {\n",
       "        text-align: right;\n",
       "    }\n",
       "</style>\n",
       "<table border=\"1\" class=\"dataframe\">\n",
       "  <thead>\n",
       "    <tr style=\"text-align: right;\">\n",
       "      <th></th>\n",
       "      <th>Symptom</th>\n",
       "      <th>weight</th>\n",
       "    </tr>\n",
       "  </thead>\n",
       "  <tbody>\n",
       "    <tr>\n",
       "      <th>0</th>\n",
       "      <td>itching</td>\n",
       "      <td>1</td>\n",
       "    </tr>\n",
       "    <tr>\n",
       "      <th>1</th>\n",
       "      <td>skin_rash</td>\n",
       "      <td>3</td>\n",
       "    </tr>\n",
       "    <tr>\n",
       "      <th>2</th>\n",
       "      <td>nodal_skin_eruptions</td>\n",
       "      <td>4</td>\n",
       "    </tr>\n",
       "    <tr>\n",
       "      <th>3</th>\n",
       "      <td>continuous_sneezing</td>\n",
       "      <td>4</td>\n",
       "    </tr>\n",
       "    <tr>\n",
       "      <th>4</th>\n",
       "      <td>shivering</td>\n",
       "      <td>5</td>\n",
       "    </tr>\n",
       "  </tbody>\n",
       "</table>\n",
       "</div>"
      ]
     },
     "execution_count": 16,
     "metadata": {},
     "output_type": "execute_result"
    }
   ],
   "execution_count": 16
  },
  {
   "cell_type": "code",
   "source": "z=df1[\"Symptom\"]",
   "metadata": {
    "execution": {
     "iopub.status.busy": "2024-07-12T19:58:15.630668Z",
     "iopub.execute_input": "2024-07-12T19:58:15.631386Z",
     "iopub.status.idle": "2024-07-12T19:58:15.635412Z",
     "shell.execute_reply.started": "2024-07-12T19:58:15.631342Z",
     "shell.execute_reply": "2024-07-12T19:58:15.634572Z"
    },
    "trusted": true,
    "ExecuteTime": {
     "end_time": "2024-07-21T14:53:53.897557Z",
     "start_time": "2024-07-21T14:53:53.890882Z"
    }
   },
   "outputs": [],
   "execution_count": 17
  },
  {
   "cell_type": "code",
   "source": "df1[\"Symptom\"].value_counts()",
   "metadata": {
    "execution": {
     "iopub.status.busy": "2024-07-12T19:58:15.636466Z",
     "iopub.execute_input": "2024-07-12T19:58:15.636816Z",
     "iopub.status.idle": "2024-07-12T19:58:15.648680Z",
     "shell.execute_reply.started": "2024-07-12T19:58:15.636792Z",
     "shell.execute_reply": "2024-07-12T19:58:15.647783Z"
    },
    "trusted": true,
    "ExecuteTime": {
     "end_time": "2024-07-21T14:53:55.032454Z",
     "start_time": "2024-07-21T14:53:55.004681Z"
    }
   },
   "outputs": [
    {
     "data": {
      "text/plain": [
       "Symptom\n",
       "fluid_overload          2\n",
       "itching                 1\n",
       "nodal_skin_eruptions    1\n",
       "skin_rash               1\n",
       "continuous_sneezing     1\n",
       "                       ..\n",
       "inflammatory_nails      1\n",
       "blister                 1\n",
       "red_sore_around_nose    1\n",
       "yellow_crust_ooze       1\n",
       "prognosis               1\n",
       "Name: count, Length: 132, dtype: int64"
      ]
     },
     "execution_count": 18,
     "metadata": {},
     "output_type": "execute_result"
    }
   ],
   "execution_count": 18
  },
  {
   "cell_type": "code",
   "source": "dfx=pd.DataFrame()\ndfx[\"Disease\"]=df[\"Disease\"]\ndfx",
   "metadata": {
    "execution": {
     "iopub.status.busy": "2024-07-12T19:58:17.666517Z",
     "iopub.execute_input": "2024-07-12T19:58:17.666899Z",
     "iopub.status.idle": "2024-07-12T19:58:17.682893Z",
     "shell.execute_reply.started": "2024-07-12T19:58:17.666866Z",
     "shell.execute_reply": "2024-07-12T19:58:17.681939Z"
    },
    "trusted": true,
    "ExecuteTime": {
     "end_time": "2024-07-21T14:54:02.895672Z",
     "start_time": "2024-07-21T14:54:02.872375Z"
    }
   },
   "outputs": [
    {
     "data": {
      "text/plain": [
       "                                      Disease\n",
       "0                            Fungal infection\n",
       "1                            Fungal infection\n",
       "2                            Fungal infection\n",
       "3                            Fungal infection\n",
       "4                            Fungal infection\n",
       "...                                       ...\n",
       "4915  (vertigo) Paroymsal  Positional Vertigo\n",
       "4916                                     Acne\n",
       "4917                  Urinary tract infection\n",
       "4918                                Psoriasis\n",
       "4919                                 Impetigo\n",
       "\n",
       "[4920 rows x 1 columns]"
      ],
      "text/html": [
       "<div>\n",
       "<style scoped>\n",
       "    .dataframe tbody tr th:only-of-type {\n",
       "        vertical-align: middle;\n",
       "    }\n",
       "\n",
       "    .dataframe tbody tr th {\n",
       "        vertical-align: top;\n",
       "    }\n",
       "\n",
       "    .dataframe thead th {\n",
       "        text-align: right;\n",
       "    }\n",
       "</style>\n",
       "<table border=\"1\" class=\"dataframe\">\n",
       "  <thead>\n",
       "    <tr style=\"text-align: right;\">\n",
       "      <th></th>\n",
       "      <th>Disease</th>\n",
       "    </tr>\n",
       "  </thead>\n",
       "  <tbody>\n",
       "    <tr>\n",
       "      <th>0</th>\n",
       "      <td>Fungal infection</td>\n",
       "    </tr>\n",
       "    <tr>\n",
       "      <th>1</th>\n",
       "      <td>Fungal infection</td>\n",
       "    </tr>\n",
       "    <tr>\n",
       "      <th>2</th>\n",
       "      <td>Fungal infection</td>\n",
       "    </tr>\n",
       "    <tr>\n",
       "      <th>3</th>\n",
       "      <td>Fungal infection</td>\n",
       "    </tr>\n",
       "    <tr>\n",
       "      <th>4</th>\n",
       "      <td>Fungal infection</td>\n",
       "    </tr>\n",
       "    <tr>\n",
       "      <th>...</th>\n",
       "      <td>...</td>\n",
       "    </tr>\n",
       "    <tr>\n",
       "      <th>4915</th>\n",
       "      <td>(vertigo) Paroymsal  Positional Vertigo</td>\n",
       "    </tr>\n",
       "    <tr>\n",
       "      <th>4916</th>\n",
       "      <td>Acne</td>\n",
       "    </tr>\n",
       "    <tr>\n",
       "      <th>4917</th>\n",
       "      <td>Urinary tract infection</td>\n",
       "    </tr>\n",
       "    <tr>\n",
       "      <th>4918</th>\n",
       "      <td>Psoriasis</td>\n",
       "    </tr>\n",
       "    <tr>\n",
       "      <th>4919</th>\n",
       "      <td>Impetigo</td>\n",
       "    </tr>\n",
       "  </tbody>\n",
       "</table>\n",
       "<p>4920 rows × 1 columns</p>\n",
       "</div>"
      ]
     },
     "execution_count": 19,
     "metadata": {},
     "output_type": "execute_result"
    }
   ],
   "execution_count": 19
  },
  {
   "cell_type": "code",
   "source": "dfx=pd.DataFrame()\ndfx[\"Disease\"]=df[\"Disease\"]\ny=0\ndfx[z]=0\nfor index, row in df.iterrows():\n    for symptom in df.columns[1:]:\n        if row[symptom] != 0:\n            dfx.loc[index, row[symptom]] = 1\ndfx = dfx.fillna(0)\ndfx[dfx.columns[1:]]=dfx[dfx.columns[1:]].astype('int')",
   "metadata": {
    "execution": {
     "iopub.status.busy": "2024-07-12T19:58:17.690076Z",
     "iopub.execute_input": "2024-07-12T19:58:17.690362Z",
     "iopub.status.idle": "2024-07-12T19:58:46.026449Z",
     "shell.execute_reply.started": "2024-07-12T19:58:17.690339Z",
     "shell.execute_reply": "2024-07-12T19:58:46.025486Z"
    },
    "trusted": true,
    "ExecuteTime": {
     "end_time": "2024-07-21T14:54:36.090990Z",
     "start_time": "2024-07-21T14:54:07.174265Z"
    }
   },
   "outputs": [],
   "execution_count": 20
  },
  {
   "cell_type": "code",
   "source": "dfx.head()",
   "metadata": {
    "execution": {
     "iopub.status.busy": "2024-07-12T19:58:46.027878Z",
     "iopub.execute_input": "2024-07-12T19:58:46.028228Z",
     "iopub.status.idle": "2024-07-12T19:58:46.050484Z",
     "shell.execute_reply.started": "2024-07-12T19:58:46.028196Z",
     "shell.execute_reply": "2024-07-12T19:58:46.049595Z"
    },
    "trusted": true,
    "ExecuteTime": {
     "end_time": "2024-07-21T14:54:38.489599Z",
     "start_time": "2024-07-21T14:54:38.472385Z"
    }
   },
   "outputs": [
    {
     "data": {
      "text/plain": [
       "            Disease  itching  skin_rash  nodal_skin_eruptions  \\\n",
       "0  Fungal infection        1          0                     0   \n",
       "1  Fungal infection        0          0                     0   \n",
       "2  Fungal infection        1          0                     0   \n",
       "3  Fungal infection        1          0                     0   \n",
       "4  Fungal infection        1          0                     0   \n",
       "\n",
       "   continuous_sneezing  shivering  chills  joint_pain  stomach_pain  acidity  \\\n",
       "0                    0          0       0           0             0        0   \n",
       "1                    0          0       0           0             0        0   \n",
       "2                    0          0       0           0             0        0   \n",
       "3                    0          0       0           0             0        0   \n",
       "4                    0          0       0           0             0        0   \n",
       "\n",
       "   ...   bladder_discomfort   foul_smell_of urine   continuous_feel_of_urine  \\\n",
       "0  ...                    0                     0                          0   \n",
       "1  ...                    0                     0                          0   \n",
       "2  ...                    0                     0                          0   \n",
       "3  ...                    0                     0                          0   \n",
       "4  ...                    0                     0                          0   \n",
       "\n",
       "    skin_peeling   silver_like_dusting   small_dents_in_nails  \\\n",
       "0              0                     0                      0   \n",
       "1              0                     0                      0   \n",
       "2              0                     0                      0   \n",
       "3              0                     0                      0   \n",
       "4              0                     0                      0   \n",
       "\n",
       "    inflammatory_nails   blister   red_sore_around_nose   yellow_crust_ooze  \n",
       "0                    0         0                      0                   0  \n",
       "1                    0         0                      0                   0  \n",
       "2                    0         0                      0                   0  \n",
       "3                    0         0                      0                   0  \n",
       "4                    0         0                      0                   0  \n",
       "\n",
       "[5 rows x 263 columns]"
      ],
      "text/html": [
       "<div>\n",
       "<style scoped>\n",
       "    .dataframe tbody tr th:only-of-type {\n",
       "        vertical-align: middle;\n",
       "    }\n",
       "\n",
       "    .dataframe tbody tr th {\n",
       "        vertical-align: top;\n",
       "    }\n",
       "\n",
       "    .dataframe thead th {\n",
       "        text-align: right;\n",
       "    }\n",
       "</style>\n",
       "<table border=\"1\" class=\"dataframe\">\n",
       "  <thead>\n",
       "    <tr style=\"text-align: right;\">\n",
       "      <th></th>\n",
       "      <th>Disease</th>\n",
       "      <th>itching</th>\n",
       "      <th>skin_rash</th>\n",
       "      <th>nodal_skin_eruptions</th>\n",
       "      <th>continuous_sneezing</th>\n",
       "      <th>shivering</th>\n",
       "      <th>chills</th>\n",
       "      <th>joint_pain</th>\n",
       "      <th>stomach_pain</th>\n",
       "      <th>acidity</th>\n",
       "      <th>...</th>\n",
       "      <th>bladder_discomfort</th>\n",
       "      <th>foul_smell_of urine</th>\n",
       "      <th>continuous_feel_of_urine</th>\n",
       "      <th>skin_peeling</th>\n",
       "      <th>silver_like_dusting</th>\n",
       "      <th>small_dents_in_nails</th>\n",
       "      <th>inflammatory_nails</th>\n",
       "      <th>blister</th>\n",
       "      <th>red_sore_around_nose</th>\n",
       "      <th>yellow_crust_ooze</th>\n",
       "    </tr>\n",
       "  </thead>\n",
       "  <tbody>\n",
       "    <tr>\n",
       "      <th>0</th>\n",
       "      <td>Fungal infection</td>\n",
       "      <td>1</td>\n",
       "      <td>0</td>\n",
       "      <td>0</td>\n",
       "      <td>0</td>\n",
       "      <td>0</td>\n",
       "      <td>0</td>\n",
       "      <td>0</td>\n",
       "      <td>0</td>\n",
       "      <td>0</td>\n",
       "      <td>...</td>\n",
       "      <td>0</td>\n",
       "      <td>0</td>\n",
       "      <td>0</td>\n",
       "      <td>0</td>\n",
       "      <td>0</td>\n",
       "      <td>0</td>\n",
       "      <td>0</td>\n",
       "      <td>0</td>\n",
       "      <td>0</td>\n",
       "      <td>0</td>\n",
       "    </tr>\n",
       "    <tr>\n",
       "      <th>1</th>\n",
       "      <td>Fungal infection</td>\n",
       "      <td>0</td>\n",
       "      <td>0</td>\n",
       "      <td>0</td>\n",
       "      <td>0</td>\n",
       "      <td>0</td>\n",
       "      <td>0</td>\n",
       "      <td>0</td>\n",
       "      <td>0</td>\n",
       "      <td>0</td>\n",
       "      <td>...</td>\n",
       "      <td>0</td>\n",
       "      <td>0</td>\n",
       "      <td>0</td>\n",
       "      <td>0</td>\n",
       "      <td>0</td>\n",
       "      <td>0</td>\n",
       "      <td>0</td>\n",
       "      <td>0</td>\n",
       "      <td>0</td>\n",
       "      <td>0</td>\n",
       "    </tr>\n",
       "    <tr>\n",
       "      <th>2</th>\n",
       "      <td>Fungal infection</td>\n",
       "      <td>1</td>\n",
       "      <td>0</td>\n",
       "      <td>0</td>\n",
       "      <td>0</td>\n",
       "      <td>0</td>\n",
       "      <td>0</td>\n",
       "      <td>0</td>\n",
       "      <td>0</td>\n",
       "      <td>0</td>\n",
       "      <td>...</td>\n",
       "      <td>0</td>\n",
       "      <td>0</td>\n",
       "      <td>0</td>\n",
       "      <td>0</td>\n",
       "      <td>0</td>\n",
       "      <td>0</td>\n",
       "      <td>0</td>\n",
       "      <td>0</td>\n",
       "      <td>0</td>\n",
       "      <td>0</td>\n",
       "    </tr>\n",
       "    <tr>\n",
       "      <th>3</th>\n",
       "      <td>Fungal infection</td>\n",
       "      <td>1</td>\n",
       "      <td>0</td>\n",
       "      <td>0</td>\n",
       "      <td>0</td>\n",
       "      <td>0</td>\n",
       "      <td>0</td>\n",
       "      <td>0</td>\n",
       "      <td>0</td>\n",
       "      <td>0</td>\n",
       "      <td>...</td>\n",
       "      <td>0</td>\n",
       "      <td>0</td>\n",
       "      <td>0</td>\n",
       "      <td>0</td>\n",
       "      <td>0</td>\n",
       "      <td>0</td>\n",
       "      <td>0</td>\n",
       "      <td>0</td>\n",
       "      <td>0</td>\n",
       "      <td>0</td>\n",
       "    </tr>\n",
       "    <tr>\n",
       "      <th>4</th>\n",
       "      <td>Fungal infection</td>\n",
       "      <td>1</td>\n",
       "      <td>0</td>\n",
       "      <td>0</td>\n",
       "      <td>0</td>\n",
       "      <td>0</td>\n",
       "      <td>0</td>\n",
       "      <td>0</td>\n",
       "      <td>0</td>\n",
       "      <td>0</td>\n",
       "      <td>...</td>\n",
       "      <td>0</td>\n",
       "      <td>0</td>\n",
       "      <td>0</td>\n",
       "      <td>0</td>\n",
       "      <td>0</td>\n",
       "      <td>0</td>\n",
       "      <td>0</td>\n",
       "      <td>0</td>\n",
       "      <td>0</td>\n",
       "      <td>0</td>\n",
       "    </tr>\n",
       "  </tbody>\n",
       "</table>\n",
       "<p>5 rows × 263 columns</p>\n",
       "</div>"
      ]
     },
     "execution_count": 21,
     "metadata": {},
     "output_type": "execute_result"
    }
   ],
   "execution_count": 21
  },
  {
   "cell_type": "code",
   "source": "dfx.shape",
   "metadata": {
    "execution": {
     "iopub.status.busy": "2024-07-12T19:58:46.051929Z",
     "iopub.execute_input": "2024-07-12T19:58:46.052792Z",
     "iopub.status.idle": "2024-07-12T19:58:46.068442Z",
     "shell.execute_reply.started": "2024-07-12T19:58:46.052759Z",
     "shell.execute_reply": "2024-07-12T19:58:46.067563Z"
    },
    "trusted": true,
    "ExecuteTime": {
     "end_time": "2024-07-21T14:54:44.275384Z",
     "start_time": "2024-07-21T14:54:44.264373Z"
    }
   },
   "outputs": [
    {
     "data": {
      "text/plain": [
       "(4920, 263)"
      ]
     },
     "execution_count": 22,
     "metadata": {},
     "output_type": "execute_result"
    }
   ],
   "execution_count": 22
  },
  {
   "cell_type": "code",
   "source": "dfx.isnull().sum()",
   "metadata": {
    "execution": {
     "iopub.status.busy": "2024-07-12T19:58:46.069988Z",
     "iopub.execute_input": "2024-07-12T19:58:46.070716Z",
     "iopub.status.idle": "2024-07-12T19:58:46.097033Z",
     "shell.execute_reply.started": "2024-07-12T19:58:46.070685Z",
     "shell.execute_reply": "2024-07-12T19:58:46.095939Z"
    },
    "trusted": true,
    "ExecuteTime": {
     "end_time": "2024-07-21T14:54:45.422291Z",
     "start_time": "2024-07-21T14:54:45.395869Z"
    }
   },
   "outputs": [
    {
     "data": {
      "text/plain": [
       "Disease                  0\n",
       "itching                  0\n",
       "skin_rash                0\n",
       "nodal_skin_eruptions     0\n",
       "continuous_sneezing      0\n",
       "                        ..\n",
       " small_dents_in_nails    0\n",
       " inflammatory_nails      0\n",
       " blister                 0\n",
       " red_sore_around_nose    0\n",
       " yellow_crust_ooze       0\n",
       "Length: 263, dtype: int64"
      ]
     },
     "execution_count": 23,
     "metadata": {},
     "output_type": "execute_result"
    }
   ],
   "execution_count": 23
  },
  {
   "cell_type": "code",
   "source": "dfx.columns\n",
   "metadata": {
    "execution": {
     "iopub.status.busy": "2024-07-12T19:58:46.098173Z",
     "iopub.execute_input": "2024-07-12T19:58:46.098581Z",
     "iopub.status.idle": "2024-07-12T19:58:46.108957Z",
     "shell.execute_reply.started": "2024-07-12T19:58:46.098549Z",
     "shell.execute_reply": "2024-07-12T19:58:46.107982Z"
    },
    "trusted": true,
    "ExecuteTime": {
     "end_time": "2024-07-21T14:54:51.477998Z",
     "start_time": "2024-07-21T14:54:51.470023Z"
    }
   },
   "outputs": [
    {
     "data": {
      "text/plain": [
       "Index(['Disease', 'itching', 'skin_rash', 'nodal_skin_eruptions',\n",
       "       'continuous_sneezing', 'shivering', 'chills', 'joint_pain',\n",
       "       'stomach_pain', 'acidity',\n",
       "       ...\n",
       "       ' bladder_discomfort', ' foul_smell_of urine',\n",
       "       ' continuous_feel_of_urine', ' skin_peeling', ' silver_like_dusting',\n",
       "       ' small_dents_in_nails', ' inflammatory_nails', ' blister',\n",
       "       ' red_sore_around_nose', ' yellow_crust_ooze'],\n",
       "      dtype='object', length=263)"
      ]
     },
     "execution_count": 24,
     "metadata": {},
     "output_type": "execute_result"
    }
   ],
   "execution_count": 24
  },
  {
   "cell_type": "code",
   "source": "dfx.head()",
   "metadata": {
    "execution": {
     "iopub.status.busy": "2024-07-12T19:58:46.110125Z",
     "iopub.execute_input": "2024-07-12T19:58:46.110400Z",
     "iopub.status.idle": "2024-07-12T19:58:46.132435Z",
     "shell.execute_reply.started": "2024-07-12T19:58:46.110366Z",
     "shell.execute_reply": "2024-07-12T19:58:46.131358Z"
    },
    "trusted": true,
    "ExecuteTime": {
     "end_time": "2024-07-21T14:54:53.565134Z",
     "start_time": "2024-07-21T14:54:53.545516Z"
    }
   },
   "outputs": [
    {
     "data": {
      "text/plain": [
       "            Disease  itching  skin_rash  nodal_skin_eruptions  \\\n",
       "0  Fungal infection        1          0                     0   \n",
       "1  Fungal infection        0          0                     0   \n",
       "2  Fungal infection        1          0                     0   \n",
       "3  Fungal infection        1          0                     0   \n",
       "4  Fungal infection        1          0                     0   \n",
       "\n",
       "   continuous_sneezing  shivering  chills  joint_pain  stomach_pain  acidity  \\\n",
       "0                    0          0       0           0             0        0   \n",
       "1                    0          0       0           0             0        0   \n",
       "2                    0          0       0           0             0        0   \n",
       "3                    0          0       0           0             0        0   \n",
       "4                    0          0       0           0             0        0   \n",
       "\n",
       "   ...   bladder_discomfort   foul_smell_of urine   continuous_feel_of_urine  \\\n",
       "0  ...                    0                     0                          0   \n",
       "1  ...                    0                     0                          0   \n",
       "2  ...                    0                     0                          0   \n",
       "3  ...                    0                     0                          0   \n",
       "4  ...                    0                     0                          0   \n",
       "\n",
       "    skin_peeling   silver_like_dusting   small_dents_in_nails  \\\n",
       "0              0                     0                      0   \n",
       "1              0                     0                      0   \n",
       "2              0                     0                      0   \n",
       "3              0                     0                      0   \n",
       "4              0                     0                      0   \n",
       "\n",
       "    inflammatory_nails   blister   red_sore_around_nose   yellow_crust_ooze  \n",
       "0                    0         0                      0                   0  \n",
       "1                    0         0                      0                   0  \n",
       "2                    0         0                      0                   0  \n",
       "3                    0         0                      0                   0  \n",
       "4                    0         0                      0                   0  \n",
       "\n",
       "[5 rows x 263 columns]"
      ],
      "text/html": [
       "<div>\n",
       "<style scoped>\n",
       "    .dataframe tbody tr th:only-of-type {\n",
       "        vertical-align: middle;\n",
       "    }\n",
       "\n",
       "    .dataframe tbody tr th {\n",
       "        vertical-align: top;\n",
       "    }\n",
       "\n",
       "    .dataframe thead th {\n",
       "        text-align: right;\n",
       "    }\n",
       "</style>\n",
       "<table border=\"1\" class=\"dataframe\">\n",
       "  <thead>\n",
       "    <tr style=\"text-align: right;\">\n",
       "      <th></th>\n",
       "      <th>Disease</th>\n",
       "      <th>itching</th>\n",
       "      <th>skin_rash</th>\n",
       "      <th>nodal_skin_eruptions</th>\n",
       "      <th>continuous_sneezing</th>\n",
       "      <th>shivering</th>\n",
       "      <th>chills</th>\n",
       "      <th>joint_pain</th>\n",
       "      <th>stomach_pain</th>\n",
       "      <th>acidity</th>\n",
       "      <th>...</th>\n",
       "      <th>bladder_discomfort</th>\n",
       "      <th>foul_smell_of urine</th>\n",
       "      <th>continuous_feel_of_urine</th>\n",
       "      <th>skin_peeling</th>\n",
       "      <th>silver_like_dusting</th>\n",
       "      <th>small_dents_in_nails</th>\n",
       "      <th>inflammatory_nails</th>\n",
       "      <th>blister</th>\n",
       "      <th>red_sore_around_nose</th>\n",
       "      <th>yellow_crust_ooze</th>\n",
       "    </tr>\n",
       "  </thead>\n",
       "  <tbody>\n",
       "    <tr>\n",
       "      <th>0</th>\n",
       "      <td>Fungal infection</td>\n",
       "      <td>1</td>\n",
       "      <td>0</td>\n",
       "      <td>0</td>\n",
       "      <td>0</td>\n",
       "      <td>0</td>\n",
       "      <td>0</td>\n",
       "      <td>0</td>\n",
       "      <td>0</td>\n",
       "      <td>0</td>\n",
       "      <td>...</td>\n",
       "      <td>0</td>\n",
       "      <td>0</td>\n",
       "      <td>0</td>\n",
       "      <td>0</td>\n",
       "      <td>0</td>\n",
       "      <td>0</td>\n",
       "      <td>0</td>\n",
       "      <td>0</td>\n",
       "      <td>0</td>\n",
       "      <td>0</td>\n",
       "    </tr>\n",
       "    <tr>\n",
       "      <th>1</th>\n",
       "      <td>Fungal infection</td>\n",
       "      <td>0</td>\n",
       "      <td>0</td>\n",
       "      <td>0</td>\n",
       "      <td>0</td>\n",
       "      <td>0</td>\n",
       "      <td>0</td>\n",
       "      <td>0</td>\n",
       "      <td>0</td>\n",
       "      <td>0</td>\n",
       "      <td>...</td>\n",
       "      <td>0</td>\n",
       "      <td>0</td>\n",
       "      <td>0</td>\n",
       "      <td>0</td>\n",
       "      <td>0</td>\n",
       "      <td>0</td>\n",
       "      <td>0</td>\n",
       "      <td>0</td>\n",
       "      <td>0</td>\n",
       "      <td>0</td>\n",
       "    </tr>\n",
       "    <tr>\n",
       "      <th>2</th>\n",
       "      <td>Fungal infection</td>\n",
       "      <td>1</td>\n",
       "      <td>0</td>\n",
       "      <td>0</td>\n",
       "      <td>0</td>\n",
       "      <td>0</td>\n",
       "      <td>0</td>\n",
       "      <td>0</td>\n",
       "      <td>0</td>\n",
       "      <td>0</td>\n",
       "      <td>...</td>\n",
       "      <td>0</td>\n",
       "      <td>0</td>\n",
       "      <td>0</td>\n",
       "      <td>0</td>\n",
       "      <td>0</td>\n",
       "      <td>0</td>\n",
       "      <td>0</td>\n",
       "      <td>0</td>\n",
       "      <td>0</td>\n",
       "      <td>0</td>\n",
       "    </tr>\n",
       "    <tr>\n",
       "      <th>3</th>\n",
       "      <td>Fungal infection</td>\n",
       "      <td>1</td>\n",
       "      <td>0</td>\n",
       "      <td>0</td>\n",
       "      <td>0</td>\n",
       "      <td>0</td>\n",
       "      <td>0</td>\n",
       "      <td>0</td>\n",
       "      <td>0</td>\n",
       "      <td>0</td>\n",
       "      <td>...</td>\n",
       "      <td>0</td>\n",
       "      <td>0</td>\n",
       "      <td>0</td>\n",
       "      <td>0</td>\n",
       "      <td>0</td>\n",
       "      <td>0</td>\n",
       "      <td>0</td>\n",
       "      <td>0</td>\n",
       "      <td>0</td>\n",
       "      <td>0</td>\n",
       "    </tr>\n",
       "    <tr>\n",
       "      <th>4</th>\n",
       "      <td>Fungal infection</td>\n",
       "      <td>1</td>\n",
       "      <td>0</td>\n",
       "      <td>0</td>\n",
       "      <td>0</td>\n",
       "      <td>0</td>\n",
       "      <td>0</td>\n",
       "      <td>0</td>\n",
       "      <td>0</td>\n",
       "      <td>0</td>\n",
       "      <td>...</td>\n",
       "      <td>0</td>\n",
       "      <td>0</td>\n",
       "      <td>0</td>\n",
       "      <td>0</td>\n",
       "      <td>0</td>\n",
       "      <td>0</td>\n",
       "      <td>0</td>\n",
       "      <td>0</td>\n",
       "      <td>0</td>\n",
       "      <td>0</td>\n",
       "    </tr>\n",
       "  </tbody>\n",
       "</table>\n",
       "<p>5 rows × 263 columns</p>\n",
       "</div>"
      ]
     },
     "execution_count": 25,
     "metadata": {},
     "output_type": "execute_result"
    }
   ],
   "execution_count": 25
  },
  {
   "cell_type": "code",
   "source": "label=df[\"Disease\"]\nfrom sklearn.preprocessing import LabelEncoder\n\nle = LabelEncoder()\nlabel=le.fit_transform(label)\nlabel",
   "metadata": {
    "execution": {
     "iopub.status.busy": "2024-07-12T19:58:46.133625Z",
     "iopub.execute_input": "2024-07-12T19:58:46.133888Z",
     "iopub.status.idle": "2024-07-12T19:58:46.142230Z",
     "shell.execute_reply.started": "2024-07-12T19:58:46.133865Z",
     "shell.execute_reply": "2024-07-12T19:58:46.141252Z"
    },
    "trusted": true,
    "ExecuteTime": {
     "end_time": "2024-07-21T14:54:59.196304Z",
     "start_time": "2024-07-21T14:54:59.184076Z"
    }
   },
   "outputs": [
    {
     "data": {
      "text/plain": [
       "array([15, 15, 15, ..., 38, 35, 27])"
      ]
     },
     "execution_count": 26,
     "metadata": {},
     "output_type": "execute_result"
    }
   ],
   "execution_count": 26
  },
  {
   "cell_type": "code",
   "source": "data=dfx.drop(columns=\"Disease\",axis=1)",
   "metadata": {
    "execution": {
     "iopub.status.busy": "2024-07-12T19:58:46.143486Z",
     "iopub.execute_input": "2024-07-12T19:58:46.143842Z",
     "iopub.status.idle": "2024-07-12T19:58:46.161393Z",
     "shell.execute_reply.started": "2024-07-12T19:58:46.143815Z",
     "shell.execute_reply": "2024-07-12T19:58:46.160578Z"
    },
    "trusted": true,
    "ExecuteTime": {
     "end_time": "2024-07-21T14:55:03.723395Z",
     "start_time": "2024-07-21T14:55:03.702742Z"
    }
   },
   "outputs": [],
   "execution_count": 27
  },
  {
   "cell_type": "code",
   "source": [
    "X_train, X_test, y_train, y_test = train_test_split(data,label, train_size=0.6, random_state=42)\n",
    "X_train, X_val, y_train, y_val = train_test_split(data,label, test_size=0.2, random_state=42)\n",
    "\n",
    "print(\"&&&&&&&&&&&&&&&&&&&&&&&&&&&&&&&&&&&&&&&&&&&&&&&&&&&&&&&&&&&&&&&&&&&&&&&&&&&\")\n",
    "print(f\"X_train shape: {X_train.shape}, X_test shape: {X_test.shape}\")\n",
    "print(\"&&&&&&&&&&&&&&&&&&&&&&&&&&&&&&&&&&&&&&&&&&&&&&&&&&&&&&&&&&&&&&&&&&&&&&&&&&&\")\n",
    "print(f\"y_train shape: {y_train.shape}, y_test shape: {y_test.shape}\")\n",
    "print(\"&&&&&&&&&&&&&&&&&&&&&&&&&&&&&&&&&&&&&&&&&&&&&&&&&&&&&&&&&&&&&&&&&&&&&&&&&&&\")\n",
    "print(f\"X_val shape: {X_val.shape}, y_val shape: {y_val.shape}\")\n",
    "print(\"&&&&&&&&&&&&&&&&&&&&&&&&&&&&&&&&&&&&&&&&&&&&&&&&&&&&&&&&&&&&&&&&&&&&&&&&&&&\")"
   ],
   "metadata": {
    "execution": {
     "iopub.status.busy": "2024-07-12T19:58:46.162386Z",
     "iopub.execute_input": "2024-07-12T19:58:46.162651Z",
     "iopub.status.idle": "2024-07-12T19:58:46.220180Z",
     "shell.execute_reply.started": "2024-07-12T19:58:46.162628Z",
     "shell.execute_reply": "2024-07-12T19:58:46.219171Z"
    },
    "trusted": true,
    "ExecuteTime": {
     "end_time": "2024-07-21T14:55:05.658714Z",
     "start_time": "2024-07-21T14:55:05.566309Z"
    }
   },
   "outputs": [
    {
     "name": "stdout",
     "output_type": "stream",
     "text": [
      "&&&&&&&&&&&&&&&&&&&&&&&&&&&&&&&&&&&&&&&&&&&&&&&&&&&&&&&&&&&&&&&&&&&&&&&&&&&\n",
      "X_train shape: (3936, 262), X_test shape: (1968, 262)\n",
      "&&&&&&&&&&&&&&&&&&&&&&&&&&&&&&&&&&&&&&&&&&&&&&&&&&&&&&&&&&&&&&&&&&&&&&&&&&&\n",
      "y_train shape: (3936,), y_test shape: (1968,)\n",
      "&&&&&&&&&&&&&&&&&&&&&&&&&&&&&&&&&&&&&&&&&&&&&&&&&&&&&&&&&&&&&&&&&&&&&&&&&&&\n",
      "X_val shape: (984, 262), y_val shape: (984,)\n",
      "&&&&&&&&&&&&&&&&&&&&&&&&&&&&&&&&&&&&&&&&&&&&&&&&&&&&&&&&&&&&&&&&&&&&&&&&&&&\n"
     ]
    }
   ],
   "execution_count": 28
  },
  {
   "cell_type": "code",
   "source": "y=le.classes_\ny",
   "metadata": {
    "execution": {
     "iopub.status.busy": "2024-07-12T19:58:46.229341Z",
     "iopub.execute_input": "2024-07-12T19:58:46.230434Z",
     "iopub.status.idle": "2024-07-12T19:58:46.241042Z",
     "shell.execute_reply.started": "2024-07-12T19:58:46.230382Z",
     "shell.execute_reply": "2024-07-12T19:58:46.240082Z"
    },
    "trusted": true,
    "ExecuteTime": {
     "end_time": "2024-07-21T14:55:10.929040Z",
     "start_time": "2024-07-21T14:55:10.922760Z"
    }
   },
   "outputs": [
    {
     "data": {
      "text/plain": [
       "array(['(vertigo) Paroymsal  Positional Vertigo', 'AIDS', 'Acne',\n",
       "       'Alcoholic hepatitis', 'Allergy', 'Arthritis', 'Bronchial Asthma',\n",
       "       'Cervical spondylosis', 'Chicken pox', 'Chronic cholestasis',\n",
       "       'Common Cold', 'Dengue', 'Diabetes ',\n",
       "       'Dimorphic hemmorhoids(piles)', 'Drug Reaction',\n",
       "       'Fungal infection', 'GERD', 'Gastroenteritis', 'Heart attack',\n",
       "       'Hepatitis B', 'Hepatitis C', 'Hepatitis D', 'Hepatitis E',\n",
       "       'Hypertension ', 'Hyperthyroidism', 'Hypoglycemia',\n",
       "       'Hypothyroidism', 'Impetigo', 'Jaundice', 'Malaria', 'Migraine',\n",
       "       'Osteoarthristis', 'Paralysis (brain hemorrhage)',\n",
       "       'Peptic ulcer diseae', 'Pneumonia', 'Psoriasis', 'Tuberculosis',\n",
       "       'Typhoid', 'Urinary tract infection', 'Varicose veins',\n",
       "       'hepatitis A'], dtype=object)"
      ]
     },
     "execution_count": 29,
     "metadata": {},
     "output_type": "execute_result"
    }
   ],
   "execution_count": 29
  },
  {
   "cell_type": "code",
   "source": [
    "# Define classifiers\n",
    "classifiers = {\n",
    "    'Random Forest': RandomForestClassifier(),\n",
    "    'XGBoost': XGBClassifier(),\n",
    "    'LightGBM': LGBMClassifier(verbose=-1),\n",
    "    # 'CatBoost': CatBoostClassifier(silent=True),\n",
    "    'GradientBoost': GradientBoostingClassifier(),\n",
    "    'ExtraTrees': ExtraTreesClassifier()\n",
    "}\n",
    "\n",
    "# Function to train and evaluate a classifier\n",
    "def train_and_evaluate_classifier(name, clf, X_train, y_train, X_test, y_test, X_val, y_val):\n",
    "    # Train and cross-validate\n",
    "    k_fold = KFold(n_splits=10, shuffle=True, random_state=1)\n",
    "    cv_scores = cross_val_score(clf, X_train, y_train, cv=k_fold, scoring='f1_weighted')\n",
    "    print(f'{name} cross-validation mean F1 score: {cv_scores.mean():.3f}')\n",
    "    \n",
    "    # Train on the whole training set\n",
    "    clf.fit(X_train, y_train)\n",
    "    \n",
    "    # Evaluate on test set\n",
    "    test_predictions = clf.predict(X_test)\n",
    "    test_f1 = f1_score(y_test, test_predictions, average='weighted')\n",
    "    test_roc = roc_auc_score(y_test, clf.predict_proba(X_test), multi_class='ovr')\n",
    "    print(f'{name} test F1 Score: {test_f1:.4f}, AUC-ROC Score: {test_roc:.4f}')\n",
    "    \n",
    "    # Evaluate on validation set\n",
    "    val_predictions = clf.predict(X_val)\n",
    "    val_f1 = f1_score(y_val, val_predictions, average='weighted')\n",
    "    val_roc = roc_auc_score(y_val, clf.predict_proba(X_val), multi_class='ovr')\n",
    "    print(f'{name} validation F1 Score: {val_f1:.4f}, AUC-ROC Score: {val_roc:.4f}')\n",
    "    \n",
    "    # Save the graphs\n",
    "    with open(f\"output/models/{name}.pkl\", \"wb\") as f:\n",
    "        pickle.dump(clf, f)\n",
    "\n",
    "\n",
    "\n",
    "# Iterate over classifiers and train/evaluate each one\n",
    "for name, clf in classifiers.items():\n",
    "    print(f\"Training and evaluating {name}...\")\n",
    "    train_and_evaluate_classifier(name, clf, X_train, y_train, X_test, y_test, X_val, y_val)"
   ],
   "metadata": {
    "execution": {
     "iopub.status.busy": "2024-07-12T19:58:46.242194Z",
     "iopub.execute_input": "2024-07-12T19:58:46.242519Z",
     "iopub.status.idle": "2024-07-12T20:13:17.455693Z",
     "shell.execute_reply.started": "2024-07-12T19:58:46.242493Z",
     "shell.execute_reply": "2024-07-12T20:13:17.454661Z"
    },
    "trusted": true,
    "ExecuteTime": {
     "end_time": "2024-07-21T15:09:11.024203Z",
     "start_time": "2024-07-21T14:55:18.285024Z"
    }
   },
   "outputs": [
    {
     "name": "stdout",
     "output_type": "stream",
     "text": [
      "Training and evaluating Random Forest...\n",
      "Random Forest cross-validation mean F1 score: 1.000\n",
      "Random Forest test F1 Score: 1.0000, AUC-ROC Score: 1.0000\n",
      "Random Forest validation F1 Score: 1.0000, AUC-ROC Score: 1.0000\n",
      "Training and evaluating XGBoost...\n",
      "XGBoost cross-validation mean F1 score: 0.999\n",
      "XGBoost test F1 Score: 1.0000, AUC-ROC Score: 1.0000\n",
      "XGBoost validation F1 Score: 1.0000, AUC-ROC Score: 1.0000\n",
      "Training and evaluating LightGBM...\n",
      "LightGBM cross-validation mean F1 score: 1.000\n",
      "LightGBM test F1 Score: 1.0000, AUC-ROC Score: 1.0000\n",
      "LightGBM validation F1 Score: 1.0000, AUC-ROC Score: 1.0000\n",
      "Training and evaluating GradientBoost...\n",
      "GradientBoost cross-validation mean F1 score: 1.000\n",
      "GradientBoost test F1 Score: 1.0000, AUC-ROC Score: 1.0000\n",
      "GradientBoost validation F1 Score: 1.0000, AUC-ROC Score: 1.0000\n",
      "Training and evaluating ExtraTrees...\n",
      "ExtraTrees cross-validation mean F1 score: 1.000\n",
      "ExtraTrees test F1 Score: 1.0000, AUC-ROC Score: 1.0000\n",
      "ExtraTrees validation F1 Score: 1.0000, AUC-ROC Score: 1.0000\n"
     ]
    }
   ],
   "execution_count": 30
  },
  {
   "cell_type": "code",
   "source": "sd=pd.read_csv(\"data/symptom_Description.csv\")",
   "metadata": {
    "execution": {
     "iopub.status.busy": "2024-07-12T20:13:17.456859Z",
     "iopub.execute_input": "2024-07-12T20:13:17.457156Z",
     "iopub.status.idle": "2024-07-12T20:13:17.475858Z",
     "shell.execute_reply.started": "2024-07-12T20:13:17.457130Z",
     "shell.execute_reply": "2024-07-12T20:13:17.474932Z"
    },
    "trusted": true,
    "ExecuteTime": {
     "end_time": "2024-07-21T15:10:53.308585Z",
     "start_time": "2024-07-21T15:10:53.160034Z"
    }
   },
   "outputs": [],
   "execution_count": 31
  },
  {
   "cell_type": "code",
   "source": "sd.head()",
   "metadata": {
    "execution": {
     "iopub.status.busy": "2024-07-12T20:13:17.477431Z",
     "iopub.execute_input": "2024-07-12T20:13:17.477743Z",
     "iopub.status.idle": "2024-07-12T20:13:17.486473Z",
     "shell.execute_reply.started": "2024-07-12T20:13:17.477720Z",
     "shell.execute_reply": "2024-07-12T20:13:17.485589Z"
    },
    "trusted": true,
    "ExecuteTime": {
     "end_time": "2024-07-21T15:10:55.092639Z",
     "start_time": "2024-07-21T15:10:55.083137Z"
    }
   },
   "outputs": [
    {
     "data": {
      "text/plain": [
       "          Disease                                        Description\n",
       "0   Drug Reaction  An adverse drug reaction (ADR) is an injury ca...\n",
       "1         Malaria  An infectious disease caused by protozoan para...\n",
       "2         Allergy  An allergy is an immune system response to a f...\n",
       "3  Hypothyroidism  Hypothyroidism, also called underactive thyroi...\n",
       "4       Psoriasis  Psoriasis is a common skin disorder that forms..."
      ],
      "text/html": [
       "<div>\n",
       "<style scoped>\n",
       "    .dataframe tbody tr th:only-of-type {\n",
       "        vertical-align: middle;\n",
       "    }\n",
       "\n",
       "    .dataframe tbody tr th {\n",
       "        vertical-align: top;\n",
       "    }\n",
       "\n",
       "    .dataframe thead th {\n",
       "        text-align: right;\n",
       "    }\n",
       "</style>\n",
       "<table border=\"1\" class=\"dataframe\">\n",
       "  <thead>\n",
       "    <tr style=\"text-align: right;\">\n",
       "      <th></th>\n",
       "      <th>Disease</th>\n",
       "      <th>Description</th>\n",
       "    </tr>\n",
       "  </thead>\n",
       "  <tbody>\n",
       "    <tr>\n",
       "      <th>0</th>\n",
       "      <td>Drug Reaction</td>\n",
       "      <td>An adverse drug reaction (ADR) is an injury ca...</td>\n",
       "    </tr>\n",
       "    <tr>\n",
       "      <th>1</th>\n",
       "      <td>Malaria</td>\n",
       "      <td>An infectious disease caused by protozoan para...</td>\n",
       "    </tr>\n",
       "    <tr>\n",
       "      <th>2</th>\n",
       "      <td>Allergy</td>\n",
       "      <td>An allergy is an immune system response to a f...</td>\n",
       "    </tr>\n",
       "    <tr>\n",
       "      <th>3</th>\n",
       "      <td>Hypothyroidism</td>\n",
       "      <td>Hypothyroidism, also called underactive thyroi...</td>\n",
       "    </tr>\n",
       "    <tr>\n",
       "      <th>4</th>\n",
       "      <td>Psoriasis</td>\n",
       "      <td>Psoriasis is a common skin disorder that forms...</td>\n",
       "    </tr>\n",
       "  </tbody>\n",
       "</table>\n",
       "</div>"
      ]
     },
     "execution_count": 32,
     "metadata": {},
     "output_type": "execute_result"
    }
   ],
   "execution_count": 32
  },
  {
   "cell_type": "code",
   "source": [
    "sp=pd.read_csv(\"data/symptom_precaution.csv\")\n",
    "sp.head()"
   ],
   "metadata": {
    "execution": {
     "iopub.status.busy": "2024-07-12T20:13:17.487575Z",
     "iopub.execute_input": "2024-07-12T20:13:17.487868Z",
     "iopub.status.idle": "2024-07-12T20:13:17.502906Z",
     "shell.execute_reply.started": "2024-07-12T20:13:17.487844Z",
     "shell.execute_reply": "2024-07-12T20:13:17.502133Z"
    },
    "trusted": true,
    "ExecuteTime": {
     "end_time": "2024-07-21T15:10:58.690998Z",
     "start_time": "2024-07-21T15:10:58.578343Z"
    }
   },
   "outputs": [
    {
     "data": {
      "text/plain": [
       "          Disease                      Precaution_1  \\\n",
       "0   Drug Reaction                   stop irritation   \n",
       "1         Malaria          Consult nearest hospital   \n",
       "2         Allergy                    apply calamine   \n",
       "3  Hypothyroidism                     reduce stress   \n",
       "4       Psoriasis  wash hands with warm soapy water   \n",
       "\n",
       "                   Precaution_2        Precaution_3  \\\n",
       "0      consult nearest hospital    stop taking drug   \n",
       "1               avoid oily food  avoid non veg food   \n",
       "2       cover area with bandage                 NaN   \n",
       "3                      exercise         eat healthy   \n",
       "4  stop bleeding using pressure      consult doctor   \n",
       "\n",
       "                  Precaution_4  \n",
       "0                    follow up  \n",
       "1           keep mosquitos out  \n",
       "2  use ice to compress itching  \n",
       "3             get proper sleep  \n",
       "4                   salt baths  "
      ],
      "text/html": [
       "<div>\n",
       "<style scoped>\n",
       "    .dataframe tbody tr th:only-of-type {\n",
       "        vertical-align: middle;\n",
       "    }\n",
       "\n",
       "    .dataframe tbody tr th {\n",
       "        vertical-align: top;\n",
       "    }\n",
       "\n",
       "    .dataframe thead th {\n",
       "        text-align: right;\n",
       "    }\n",
       "</style>\n",
       "<table border=\"1\" class=\"dataframe\">\n",
       "  <thead>\n",
       "    <tr style=\"text-align: right;\">\n",
       "      <th></th>\n",
       "      <th>Disease</th>\n",
       "      <th>Precaution_1</th>\n",
       "      <th>Precaution_2</th>\n",
       "      <th>Precaution_3</th>\n",
       "      <th>Precaution_4</th>\n",
       "    </tr>\n",
       "  </thead>\n",
       "  <tbody>\n",
       "    <tr>\n",
       "      <th>0</th>\n",
       "      <td>Drug Reaction</td>\n",
       "      <td>stop irritation</td>\n",
       "      <td>consult nearest hospital</td>\n",
       "      <td>stop taking drug</td>\n",
       "      <td>follow up</td>\n",
       "    </tr>\n",
       "    <tr>\n",
       "      <th>1</th>\n",
       "      <td>Malaria</td>\n",
       "      <td>Consult nearest hospital</td>\n",
       "      <td>avoid oily food</td>\n",
       "      <td>avoid non veg food</td>\n",
       "      <td>keep mosquitos out</td>\n",
       "    </tr>\n",
       "    <tr>\n",
       "      <th>2</th>\n",
       "      <td>Allergy</td>\n",
       "      <td>apply calamine</td>\n",
       "      <td>cover area with bandage</td>\n",
       "      <td>NaN</td>\n",
       "      <td>use ice to compress itching</td>\n",
       "    </tr>\n",
       "    <tr>\n",
       "      <th>3</th>\n",
       "      <td>Hypothyroidism</td>\n",
       "      <td>reduce stress</td>\n",
       "      <td>exercise</td>\n",
       "      <td>eat healthy</td>\n",
       "      <td>get proper sleep</td>\n",
       "    </tr>\n",
       "    <tr>\n",
       "      <th>4</th>\n",
       "      <td>Psoriasis</td>\n",
       "      <td>wash hands with warm soapy water</td>\n",
       "      <td>stop bleeding using pressure</td>\n",
       "      <td>consult doctor</td>\n",
       "      <td>salt baths</td>\n",
       "    </tr>\n",
       "  </tbody>\n",
       "</table>\n",
       "</div>"
      ]
     },
     "execution_count": 33,
     "metadata": {},
     "output_type": "execute_result"
    }
   ],
   "execution_count": 33
  },
  {
   "cell_type": "code",
   "source": [
    "def pred_result(m, X, sd, sp):\n",
    "    # Predict probabilities for each class\n",
    "    proba = m.predict_proba(X)\n",
    "    \n",
    "    # Get the indices and probabilities of the top 5 classes\n",
    "    top5_idx = np.argsort(proba[0])[-5:][::-1]\n",
    "    top5_proba = np.sort(proba[0])[-5:][::-1]\n",
    "    \n",
    "    # Get the names of the top 5 diseases\n",
    "    top5_diseases = y[top5_idx]\n",
    "    \n",
    "    for i in range(5):\n",
    "        disease = top5_diseases[i]\n",
    "        probability = top5_proba[i]\n",
    "        \n",
    "        print(\"Disease Name:\", disease)\n",
    "        print(\"Probability:\", probability)\n",
    "        \n",
    "        if disease in sd[\"Disease\"].unique():\n",
    "            disp = sd[sd['Disease'] == disease].iloc[0, 1]\n",
    "            print(\"Disease Description:\", disp)\n",
    "        \n",
    "        if disease in sp[\"Disease\"].unique():\n",
    "            c = np.where(sp['Disease'] == disease)[0][0]\n",
    "            precaution_list = sp.iloc[c, 1:].dropna().tolist()\n",
    "            print(\"Recommended Things to do at home:\")\n",
    "            for precaution in precaution_list:\n",
    "                print(precaution)\n",
    "        \n",
    "        print(\"\\n\")\n"
   ],
   "metadata": {
    "execution": {
     "iopub.status.busy": "2024-07-12T20:13:17.516046Z",
     "iopub.execute_input": "2024-07-12T20:13:17.516402Z",
     "iopub.status.idle": "2024-07-12T20:13:17.526114Z",
     "shell.execute_reply.started": "2024-07-12T20:13:17.516369Z",
     "shell.execute_reply": "2024-07-12T20:13:17.525267Z"
    },
    "trusted": true,
    "ExecuteTime": {
     "end_time": "2024-07-21T15:11:12.385386Z",
     "start_time": "2024-07-21T15:11:12.376371Z"
    }
   },
   "outputs": [],
   "execution_count": 34
  },
  {
   "cell_type": "code",
   "source": "x=dfx.columns[1:]\nx",
   "metadata": {
    "execution": {
     "iopub.status.busy": "2024-07-12T20:13:17.527175Z",
     "iopub.execute_input": "2024-07-12T20:13:17.527445Z",
     "iopub.status.idle": "2024-07-12T20:13:17.541155Z",
     "shell.execute_reply.started": "2024-07-12T20:13:17.527423Z",
     "shell.execute_reply": "2024-07-12T20:13:17.540304Z"
    },
    "trusted": true,
    "ExecuteTime": {
     "end_time": "2024-07-21T15:11:13.714614Z",
     "start_time": "2024-07-21T15:11:13.705587Z"
    }
   },
   "outputs": [
    {
     "data": {
      "text/plain": [
       "Index(['itching', 'skin_rash', 'nodal_skin_eruptions', 'continuous_sneezing',\n",
       "       'shivering', 'chills', 'joint_pain', 'stomach_pain', 'acidity',\n",
       "       'ulcers_on_tongue',\n",
       "       ...\n",
       "       ' bladder_discomfort', ' foul_smell_of urine',\n",
       "       ' continuous_feel_of_urine', ' skin_peeling', ' silver_like_dusting',\n",
       "       ' small_dents_in_nails', ' inflammatory_nails', ' blister',\n",
       "       ' red_sore_around_nose', ' yellow_crust_ooze'],\n",
       "      dtype='object', length=262)"
      ]
     },
     "execution_count": 35,
     "metadata": {},
     "output_type": "execute_result"
    }
   ],
   "execution_count": 35
  },
  {
   "cell_type": "code",
   "source": "print(x.tolist())\n",
   "metadata": {
    "execution": {
     "iopub.status.busy": "2024-07-12T20:24:20.687953Z",
     "iopub.execute_input": "2024-07-12T20:24:20.688997Z",
     "iopub.status.idle": "2024-07-12T20:24:20.694440Z",
     "shell.execute_reply.started": "2024-07-12T20:24:20.688962Z",
     "shell.execute_reply": "2024-07-12T20:24:20.693330Z"
    },
    "trusted": true,
    "ExecuteTime": {
     "end_time": "2024-07-21T15:11:15.137753Z",
     "start_time": "2024-07-21T15:11:15.130215Z"
    }
   },
   "outputs": [
    {
     "name": "stdout",
     "output_type": "stream",
     "text": [
      "['itching', 'skin_rash', 'nodal_skin_eruptions', 'continuous_sneezing', 'shivering', 'chills', 'joint_pain', 'stomach_pain', 'acidity', 'ulcers_on_tongue', 'muscle_wasting', 'vomiting', 'burning_micturition', 'spotting_urination', 'fatigue', 'weight_gain', 'anxiety', 'cold_hands_and_feets', 'mood_swings', 'weight_loss', 'restlessness', 'lethargy', 'patches_in_throat', 'irregular_sugar_level', 'cough', 'high_fever', 'sunken_eyes', 'breathlessness', 'sweating', 'dehydration', 'indigestion', 'headache', 'yellowish_skin', 'dark_urine', 'nausea', 'loss_of_appetite', 'pain_behind_the_eyes', 'back_pain', 'constipation', 'abdominal_pain', 'diarrhoea', 'mild_fever', 'yellow_urine', 'yellowing_of_eyes', 'acute_liver_failure', 'fluid_overload', 'swelling_of_stomach', 'swelled_lymph_nodes', 'malaise', 'blurred_and_distorted_vision', 'phlegm', 'throat_irritation', 'redness_of_eyes', 'sinus_pressure', 'runny_nose', 'congestion', 'chest_pain', 'weakness_in_limbs', 'fast_heart_rate', 'pain_during_bowel_movements', 'pain_in_anal_region', 'bloody_stool', 'irritation_in_anus', 'neck_pain', 'dizziness', 'cramps', 'bruising', 'obesity', 'swollen_legs', 'swollen_blood_vessels', 'puffy_face_and_eyes', 'enlarged_thyroid', 'brittle_nails', 'swollen_extremeties', 'excessive_hunger', 'extra_marital_contacts', 'drying_and_tingling_lips', 'slurred_speech', 'knee_pain', 'hip_joint_pain', 'muscle_weakness', 'stiff_neck', 'swelling_joints', 'movement_stiffness', 'spinning_movements', 'loss_of_balance', 'unsteadiness', 'weakness_of_one_body_side', 'loss_of_smell', 'bladder_discomfort', 'foul_smell_ofurine', 'continuous_feel_of_urine', 'passage_of_gases', 'internal_itching', 'toxic_look_(typhos)', 'depression', 'irritability', 'muscle_pain', 'altered_sensorium', 'red_spots_over_body', 'belly_pain', 'abnormal_menstruation', 'dischromic_patches', 'watering_from_eyes', 'increased_appetite', 'polyuria', 'family_history', 'mucoid_sputum', 'rusty_sputum', 'lack_of_concentration', 'visual_disturbances', 'receiving_blood_transfusion', 'receiving_unsterile_injections', 'coma', 'stomach_bleeding', 'distention_of_abdomen', 'history_of_alcohol_consumption', 'blood_in_sputum', 'prominent_veins_on_calf', 'palpitations', 'painful_walking', 'pus_filled_pimples', 'blackheads', 'scurring', 'skin_peeling', 'silver_like_dusting', 'small_dents_in_nails', 'inflammatory_nails', 'blister', 'red_sore_around_nose', 'yellow_crust_ooze', 'prognosis', ' skin_rash', ' nodal_skin_eruptions', ' dischromic _patches', ' continuous_sneezing', ' shivering', ' chills', ' watering_from_eyes', ' stomach_pain', ' acidity', ' ulcers_on_tongue', ' vomiting', ' cough', ' chest_pain', ' yellowish_skin', ' nausea', ' loss_of_appetite', ' abdominal_pain', ' yellowing_of_eyes', ' burning_micturition', ' spotting_ urination', ' passage_of_gases', ' internal_itching', ' indigestion', ' muscle_wasting', ' patches_in_throat', ' high_fever', ' extra_marital_contacts', ' fatigue', ' weight_loss', ' restlessness', ' lethargy', ' irregular_sugar_level', ' blurred_and_distorted_vision', ' obesity', ' excessive_hunger', ' increased_appetite', ' polyuria', ' sunken_eyes', ' dehydration', ' diarrhoea', ' breathlessness', ' family_history', ' mucoid_sputum', ' headache', ' dizziness', ' loss_of_balance', ' lack_of_concentration', ' stiff_neck', ' depression', ' irritability', ' visual_disturbances', ' back_pain', ' weakness_in_limbs', ' neck_pain', ' weakness_of_one_body_side', ' altered_sensorium', ' dark_urine', ' sweating', ' muscle_pain', ' mild_fever', ' swelled_lymph_nodes', ' malaise', ' red_spots_over_body', ' joint_pain', ' pain_behind_the_eyes', ' constipation', ' toxic_look_(typhos)', ' belly_pain', ' yellow_urine', ' receiving_blood_transfusion', ' receiving_unsterile_injections', ' coma', ' stomach_bleeding', ' acute_liver_failure', ' swelling_of_stomach', ' distention_of_abdomen', ' history_of_alcohol_consumption', ' fluid_overload', ' phlegm', ' blood_in_sputum', ' throat_irritation', ' redness_of_eyes', ' sinus_pressure', ' runny_nose', ' congestion', ' loss_of_smell', ' fast_heart_rate', ' rusty_sputum', ' pain_during_bowel_movements', ' pain_in_anal_region', ' bloody_stool', ' irritation_in_anus', ' cramps', ' bruising', ' swollen_legs', ' swollen_blood_vessels', ' prominent_veins_on_calf', ' weight_gain', ' cold_hands_and_feets', ' mood_swings', ' puffy_face_and_eyes', ' enlarged_thyroid', ' brittle_nails', ' swollen_extremeties', ' abnormal_menstruation', ' muscle_weakness', ' anxiety', ' slurred_speech', ' palpitations', ' drying_and_tingling_lips', ' knee_pain', ' hip_joint_pain', ' swelling_joints', ' painful_walking', ' movement_stiffness', ' spinning_movements', ' unsteadiness', ' pus_filled_pimples', ' blackheads', ' scurring', ' bladder_discomfort', ' foul_smell_of urine', ' continuous_feel_of_urine', ' skin_peeling', ' silver_like_dusting', ' small_dents_in_nails', ' inflammatory_nails', ' blister', ' red_sore_around_nose', ' yellow_crust_ooze']\n"
     ]
    }
   ],
   "execution_count": 36
  },
  {
   "cell_type": "code",
   "source": "len(x)",
   "metadata": {
    "execution": {
     "iopub.status.busy": "2024-07-12T20:19:24.369400Z",
     "iopub.execute_input": "2024-07-12T20:19:24.370318Z",
     "iopub.status.idle": "2024-07-12T20:19:24.376334Z",
     "shell.execute_reply.started": "2024-07-12T20:19:24.370283Z",
     "shell.execute_reply": "2024-07-12T20:19:24.375490Z"
    },
    "trusted": true,
    "ExecuteTime": {
     "end_time": "2024-07-21T15:11:17.706112Z",
     "start_time": "2024-07-21T15:11:17.697622Z"
    }
   },
   "outputs": [
    {
     "data": {
      "text/plain": [
       "262"
      ]
     },
     "execution_count": 37,
     "metadata": {},
     "output_type": "execute_result"
    }
   ],
   "execution_count": 37
  },
  {
   "cell_type": "code",
   "source": "y",
   "metadata": {
    "execution": {
     "iopub.status.busy": "2024-07-12T20:13:17.542210Z",
     "iopub.execute_input": "2024-07-12T20:13:17.542470Z",
     "iopub.status.idle": "2024-07-12T20:13:17.552181Z",
     "shell.execute_reply.started": "2024-07-12T20:13:17.542448Z",
     "shell.execute_reply": "2024-07-12T20:13:17.551422Z"
    },
    "trusted": true,
    "ExecuteTime": {
     "end_time": "2024-07-21T15:11:19.516719Z",
     "start_time": "2024-07-21T15:11:19.506463Z"
    }
   },
   "outputs": [
    {
     "data": {
      "text/plain": [
       "array(['(vertigo) Paroymsal  Positional Vertigo', 'AIDS', 'Acne',\n",
       "       'Alcoholic hepatitis', 'Allergy', 'Arthritis', 'Bronchial Asthma',\n",
       "       'Cervical spondylosis', 'Chicken pox', 'Chronic cholestasis',\n",
       "       'Common Cold', 'Dengue', 'Diabetes ',\n",
       "       'Dimorphic hemmorhoids(piles)', 'Drug Reaction',\n",
       "       'Fungal infection', 'GERD', 'Gastroenteritis', 'Heart attack',\n",
       "       'Hepatitis B', 'Hepatitis C', 'Hepatitis D', 'Hepatitis E',\n",
       "       'Hypertension ', 'Hyperthyroidism', 'Hypoglycemia',\n",
       "       'Hypothyroidism', 'Impetigo', 'Jaundice', 'Malaria', 'Migraine',\n",
       "       'Osteoarthristis', 'Paralysis (brain hemorrhage)',\n",
       "       'Peptic ulcer diseae', 'Pneumonia', 'Psoriasis', 'Tuberculosis',\n",
       "       'Typhoid', 'Urinary tract infection', 'Varicose veins',\n",
       "       'hepatitis A'], dtype=object)"
      ]
     },
     "execution_count": 38,
     "metadata": {},
     "output_type": "execute_result"
    }
   ],
   "execution_count": 38
  },
  {
   "cell_type": "code",
   "source": [
    "def main():\n",
    "    t = pd.Series([0] * len(x), index=x)  # Adjust the length to match `x`\n",
    "    with open(\"output/models/GradientBoost.pkl\", 'rb') as f:\n",
    "        m = pickle.load(f)\n",
    "    \n",
    "    # Modify t for specific symptoms\n",
    "    symptoms_to_include = [\"chest_pain\", \"phlegm\", \"runny_nose\", \"high_fever\", \"throat_irritation\", \"congestion\", \"redness_of_eyes\"]\n",
    "    t.loc[symptoms_to_include] = 1\n",
    "    \n",
    "    # Convert t to numpy array and reshape\n",
    "    t_array = t.to_numpy().reshape(1, -1)\n",
    "    \n",
    "    # Call pred_result function\n",
    "    pred_result(m, t_array, sd, sp)\n",
    "\n",
    "if __name__ == \"__main__\":\n",
    "    main()"
   ],
   "metadata": {
    "execution": {
     "iopub.status.busy": "2024-07-12T20:13:17.553437Z",
     "iopub.execute_input": "2024-07-12T20:13:17.553782Z",
     "iopub.status.idle": "2024-07-12T20:13:17.586754Z",
     "shell.execute_reply.started": "2024-07-12T20:13:17.553758Z",
     "shell.execute_reply": "2024-07-12T20:13:17.585872Z"
    },
    "trusted": true,
    "ExecuteTime": {
     "end_time": "2024-07-21T15:15:40.715245Z",
     "start_time": "2024-07-21T15:15:40.212729Z"
    }
   },
   "outputs": [
    {
     "name": "stdout",
     "output_type": "stream",
     "text": [
      "Disease Name: Chronic cholestasis\n",
      "Probability: 0.11174431889175317\n",
      "Disease Description: Chronic cholestatic diseases, whether occurring in infancy, childhood or adulthood, are characterized by defective bile acid transport from the liver to the intestine, which is caused by primary damage to the biliary epithelium in most cases\n",
      "Recommended Things to do at home:\n",
      "cold baths\n",
      "anti itch medicine\n",
      "consult doctor\n",
      "eat healthy\n",
      "\n",
      "\n",
      "Disease Name: Heart attack\n",
      "Probability: 0.02944481605529313\n",
      "Disease Description: The death of heart muscle due to the loss of blood supply. The loss of blood supply is usually caused by a complete blockage of a coronary artery, one of the arteries that supplies blood to the heart muscle.\n",
      "Recommended Things to do at home:\n",
      "call ambulance\n",
      "chew or swallow asprin\n",
      "keep calm\n",
      "\n",
      "\n",
      "Disease Name: (vertigo) Paroymsal  Positional Vertigo\n",
      "Probability: 0.028919719870576233\n",
      "Disease Description: Benign paroxysmal positional vertigo (BPPV) is one of the most common causes of vertigo — the sudden sensation that you're spinning or that the inside of your head is spinning. Benign paroxysmal positional vertigo causes brief episodes of mild to intense dizziness.\n",
      "Recommended Things to do at home:\n",
      "lie down\n",
      "avoid sudden change in body\n",
      "avoid abrupt head movment\n",
      "relax\n",
      "\n",
      "\n",
      "Disease Name: Urinary tract infection\n",
      "Probability: 0.028561494403507186\n",
      "Disease Description: Urinary tract infection: An infection of the kidney, ureter, bladder, or urethra. Abbreviated UTI. Not everyone with a UTI has symptoms, but common symptoms include a frequent urge to urinate and pain or burning when urinating.\n",
      "Recommended Things to do at home:\n",
      "drink plenty of water\n",
      "increase vitamin c intake\n",
      "drink cranberry juice\n",
      "take probiotics\n",
      "\n",
      "\n",
      "Disease Name: Hepatitis D\n",
      "Probability: 0.02848610131871381\n",
      "Disease Description: Hepatitis D, also known as the hepatitis delta virus, is an infection that causes the liver to become inflamed. This swelling can impair liver function and cause long-term liver problems, including liver scarring and cancer. The condition is caused by the hepatitis D virus (HDV).\n",
      "Recommended Things to do at home:\n",
      "consult doctor\n",
      "medication\n",
      "eat healthy\n",
      "follow up\n",
      "\n",
      "\n"
     ]
    }
   ],
   "execution_count": 44
  },
  {
   "cell_type": "code",
   "source": "# build a gradio interface\n",
   "metadata": {},
   "execution_count": null,
   "outputs": []
  }
 ]
}
